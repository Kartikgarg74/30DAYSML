{
 "cells": [
  {
   "cell_type": "code",
   "execution_count": null,
   "id": "cc1481e3-896a-406c-af21-676ad06565b1",
   "metadata": {
    "scrolled": true
   },
   "outputs": [],
   "source": [
    "import numpy as np\n",
    "import tensorflow as tf\n",
    "from tensorflow.keras import layers, models\n",
    "from tensorflow.keras import backend as K\n",
    "from tensorflow.keras.datasets import mnist\n",
    "import matplotlib.pyplot as plt"
   ]
  },
  {
   "cell_type": "code",
   "execution_count": null,
   "id": "7d4d15cb-8a64-4a5b-9dc7-28cbe40989f8",
   "metadata": {
    "scrolled": true
   },
   "outputs": [],
   "source": [
    "# Load and prepare the MNIST dataset"
   ]
  },
  {
   "cell_type": "code",
   "execution_count": null,
   "id": "19864f29-62b9-46e0-afdd-f592fd3749ff",
   "metadata": {
    "scrolled": true
   },
   "outputs": [],
   "source": [
    "(x_train, _), (x_test, _) = mnist.load_data()\n",
    "x_train = x_train.astype('float32') / 255.\n",
    "x_test = x_test.astype('float32') / 255.\n",
    "x_train = np.reshape(x_train, (x_train.shape[0], 28, 28, 1))\n",
    "x_test = np.reshape(x_test, (x_test.shape[0], 28, 28, 1))"
   ]
  },
  {
   "cell_type": "code",
   "execution_count": null,
   "id": "f81bfe13-989f-40dc-9b55-ad5a03cb630b",
   "metadata": {
    "scrolled": true
   },
   "outputs": [],
   "source": [
    "# Encoder Model"
   ]
  },
  {
   "cell_type": "code",
   "execution_count": null,
   "id": "ec68572f-cbe8-4069-aa95-77384ab89ede",
   "metadata": {
    "scrolled": true
   },
   "outputs": [],
   "source": [
    "def build_encoder(latent_dim=2):\n",
    "    x = layers.Input(shape=(28, 28, 1))\n",
    "    h = layers.Flatten()(x)\n",
    "    h = layers.Dense(256, activation='relu')(h)\n",
    "    h = layers.Dense(128, activation='relu')(h)\n",
    "    z_mean = layers.Dense(latent_dim)(h)\n",
    "    z_log_var = layers.Dense(latent_dim)(h)\n",
    "    encoder = models.Model(x, [z_mean, z_log_var])\n",
    "    return encoder"
   ]
  },
  {
   "cell_type": "code",
   "execution_count": null,
   "id": "b9b98680-448b-4832-bfa4-61be3c01c6f2",
   "metadata": {
    "scrolled": true
   },
   "outputs": [],
   "source": [
    "# Reparameterization Trick"
   ]
  },
  {
   "cell_type": "code",
   "execution_count": null,
   "id": "ee140356-153e-4417-a43f-7eec112af166",
   "metadata": {
    "scrolled": true
   },
   "outputs": [],
   "source": [
    "def sampling(args):\n",
    "    z_mean, z_log_var = args\n",
    "    batch = K.shape(z_mean)[0]\n",
    "    dim = K.int_shape(z_mean)[1]\n",
    "    epsilon = K.random_normal(shape=(batch, dim))\n",
    "    return z_mean + K.exp(0.5 * z_log_var) * epsilon"
   ]
  },
  {
   "cell_type": "code",
   "execution_count": null,
   "id": "e2210444-95d9-4dc3-9c53-55e88e11dbaa",
   "metadata": {
    "scrolled": true
   },
   "outputs": [],
   "source": [
    "# Decoder Model\n",
    "def build_decoder(latent_dim=2):\n",
    "    z = layers.Input(shape=(latent_dim,))\n",
    "    h = layers.Dense(128, activation='relu')(z)\n",
    "    h = layers.Dense(256, activation='relu')(h)\n",
    "    x_decoded = layers.Dense(28 * 28, activation='sigmoid')(h)\n",
    "    x_decoded = layers.Reshape((28, 28, 1))(x_decoded)\n",
    "    decoder = models.Model(z, x_decoded)\n",
    "    return decoder"
   ]
  },
  {
   "cell_type": "code",
   "execution_count": null,
   "id": "ae2e3625-4738-424c-bd03-f3161fca3d0e",
   "metadata": {
    "scrolled": true
   },
   "outputs": [],
   "source": [
    "# VAE Loss Layer\n",
    "class VAELossLayer(layers.Layer):\n",
    "    def __init__(self, **kwargs):\n",
    "        super(VAELossLayer, self).__init__(**kwargs)\n",
    "\n",
    "    def call(self, inputs):\n",
    "        x, x_decoded, z_mean, z_log_var = inputs\n",
    "\n",
    "        # Reconstruction loss\n",
    "        xent_loss = tf.reduce_sum(tf.keras.losses.binary_crossentropy(x, x_decoded), axis=(1, 2))\n",
    "\n",
    "        # KL Divergence loss\n",
    "        kl_loss = - 0.5 * tf.reduce_sum(1 + z_log_var - tf.square(z_mean) - tf.exp(z_log_var), axis=-1)\n",
    "\n",
    "        # Total loss\n",
    "        vae_loss = tf.reduce_mean(xent_loss + kl_loss)\n",
    "\n",
    "        self.add_loss(vae_loss)\n",
    "\n",
    "        return x_decoded  # The output is still the decoded image, as it is part of the model"
   ]
  },
  {
   "cell_type": "code",
   "execution_count": null,
   "id": "34e6eadd-efba-466b-98fa-a13ea0caba3d",
   "metadata": {
    "scrolled": true
   },
   "outputs": [],
   "source": [
    "# VAE Model\n",
    "def build_vae(encoder, decoder, latent_dim=2):\n",
    "    x = layers.Input(shape=(28, 28, 1))\n",
    "    z_mean, z_log_var = encoder(x)\n",
    "    z = layers.Lambda(sampling, output_shape=(latent_dim,))([z_mean, z_log_var])\n",
    "    x_decoded = decoder(z)\n",
    "    \n",
    "    # Adding the custom VAE loss layer\n",
    "    vae_loss_layer = VAELossLayer()([x, x_decoded, z_mean, z_log_var])\n",
    "\n",
    "    vae = models.Model(x, vae_loss_layer)\n",
    "\n",
    "    return vae"
   ]
  },
  {
   "cell_type": "code",
   "execution_count": null,
   "id": "c23c353a-1893-4202-91e8-89115e319bb3",
   "metadata": {
    "scrolled": true
   },
   "outputs": [],
   "source": [
    "# Build the Encoder, Decoder, and VAE models\n",
    "latent_dim = 2\n",
    "encoder = build_encoder(latent_dim)\n",
    "decoder = build_decoder(latent_dim)\n",
    "vae = build_vae(encoder, decoder, latent_dim)"
   ]
  },
  {
   "cell_type": "code",
   "execution_count": null,
   "id": "f455613c-d498-43bd-8ab7-022fc8cf020e",
   "metadata": {
    "scrolled": true
   },
   "outputs": [],
   "source": [
    "# Compile the VAE model\n",
    "vae.compile(optimizer='adam')"
   ]
  },
  {
   "cell_type": "code",
   "execution_count": null,
   "id": "d25d6434-0768-414e-a8cb-87f932472110",
   "metadata": {
    "scrolled": true
   },
   "outputs": [],
   "source": [
    "# Train the VAE\n",
    "vae.fit(x_train, epochs=50, batch_size=128, validation_data=(x_test, None))"
   ]
  },
  {
   "cell_type": "code",
   "execution_count": null,
   "id": "163da57b-496a-4c81-85ac-33e8bf001d0f",
   "metadata": {
    "scrolled": true
   },
   "outputs": [],
   "source": [
    "# Generate New Data\n",
    "def generate_new_data(decoder, latent_dim=2):\n",
    "    z_new = np.random.normal(size=(10, latent_dim))\n",
    "    generated_images = decoder.predict(z_new)\n",
    "    return generated_images"
   ]
  }
 ],
 "metadata": {
  "kernelspec": {
   "display_name": "Python (base)",
   "language": "python",
   "name": "base"
  },
  "language_info": {
   "codemirror_mode": {
    "name": "ipython",
    "version": 3
   },
   "file_extension": ".py",
   "mimetype": "text/x-python",
   "name": "python",
   "nbconvert_exporter": "python",
   "pygments_lexer": "ipython3",
   "version": "3.12.4"
  }
 },
 "nbformat": 4,
 "nbformat_minor": 5
}

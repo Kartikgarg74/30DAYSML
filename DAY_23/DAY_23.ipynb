{
 "cells": [
  {
   "cell_type": "code",
   "execution_count": 12,
   "id": "680d70b5-0e87-4866-918b-78a126b1fa14",
   "metadata": {},
   "outputs": [],
   "source": [
    "import tensorflow_datasets as tfds\n",
    "import pandas as pd\n",
    "from sklearn.feature_extraction.text import TfidfVectorizer\n",
    "from sklearn.metrics.pairwise import cosine_similarity\n",
    "import tensorflow as tf"
   ]
  },
  {
   "cell_type": "code",
   "execution_count": 13,
   "id": "604d0ae8-4329-477a-9bc3-ca3de625865a",
   "metadata": {},
   "outputs": [],
   "source": [
    "# Define the genre mapping (example mapping for 21 genres, modify as needed)\n",
    "genre_mapping = {\n",
    "    0: 'Action', 1: 'Adventure', 2: 'Animation', 3: 'Children', 4: 'Comedy', \n",
    "    5: 'Crime', 6: 'Documentary', 7: 'Drama', 8: 'Fantasy', 9: 'Film-Noir', \n",
    "    10: 'Horror', 11: 'Musical', 12: 'Mystery', 13: 'Romance', 14: 'Sci-Fi', \n",
    "    15: 'Thriller', 16: 'War', 17: 'Western', 18: 'IMAX', 19: 'Documentary', \n",
    "    20: 'Family'\n",
    "}"
   ]
  },
  {
   "cell_type": "code",
   "execution_count": 22,
   "id": "a14bd2d3-8f85-4baf-96fe-f1623e2bf22d",
   "metadata": {},
   "outputs": [
    {
     "name": "stdout",
     "output_type": "stream",
     "text": [
      "  movie_genres movie_id                      movie_title\n",
      "0          [4]     1681           b'You So Crazy (1994)'\n",
      "1       [4, 7]     1457   b'Love Is All There Is (1996)'\n",
      "2       [1, 3]      500          b'Fly Away Home (1996)'\n",
      "3          [0]      838  b'In the Line of Duty 2 (1987)'\n",
      "4          [7]     1648       b'Niagara, Niagara (1997)' \n",
      "\n",
      "\n",
      "       movie_genres movie_id            movie_title\n",
      "count          1682     1682                   1682\n",
      "unique          868     1682                   1664\n",
      "top             [7]     1681  b\"Ulee's Gold (1997)\"\n",
      "freq            376        1                      2\n"
     ]
    }
   ],
   "source": [
    "# Load the MovieLens dataset\n",
    "data, info = tfds.load('movielens/100k-movies', split='train', as_supervised=False, with_info=True)\n",
    "\n",
    "# Convert dataset to a DataFrame\n",
    "movies = tfds.as_dataframe(data)\n",
    "\n",
    "# Convert 'movie_id' to string format (removing b prefix from byte string)\n",
    "movies['movie_id'] = movies['movie_id'].apply(lambda x: x.decode('utf-8') if isinstance(x, bytes) else str(x))\n",
    "print(movies.head(),\"\\n\\n\")\n",
    "print(movies.describe())"
   ]
  },
  {
   "cell_type": "code",
   "execution_count": 15,
   "id": "2a45da35-d2f8-49bd-84cc-3e0d42db0768",
   "metadata": {},
   "outputs": [],
   "source": [
    "# Preprocess the genres: Convert genre IDs to genre names\n",
    "def map_genres(genre_ids):\n",
    "    return ', '.join([genre_mapping[genre_id] for genre_id in genre_ids])"
   ]
  },
  {
   "cell_type": "code",
   "execution_count": 16,
   "id": "98427e04-b316-40ba-9561-eff124dc8845",
   "metadata": {},
   "outputs": [],
   "source": [
    "# Apply genre processing\n",
    "movies['genres'] = movies['movie_genres'].apply(lambda x: map_genres(x.numpy()) if isinstance(x, tf.Tensor) else map_genres(x))"
   ]
  },
  {
   "cell_type": "code",
   "execution_count": 17,
   "id": "32b30ac6-d8b1-44fb-9694-25c86162c1f4",
   "metadata": {},
   "outputs": [],
   "source": [
    "# Content-Based Filtering using TF-IDF on genres\n",
    "tfidf = TfidfVectorizer(stop_words='english')\n",
    "tfidf_matrix = tfidf.fit_transform(movies['genres'])"
   ]
  },
  {
   "cell_type": "code",
   "execution_count": 18,
   "id": "bb4a1db6-a1dc-423f-a44d-aeac40e5dee2",
   "metadata": {},
   "outputs": [],
   "source": [
    "# Compute cosine similarity between movies based on genres\n",
    "cosine_sim = cosine_similarity(tfidf_matrix, tfidf_matrix)"
   ]
  },
  {
   "cell_type": "code",
   "execution_count": 19,
   "id": "c813904e-2cfd-44a5-8606-814dd7c9d674",
   "metadata": {},
   "outputs": [
    {
     "name": "stdout",
     "output_type": "stream",
     "text": [
      "[b'To Wong Foo, Thanks for Everything! Julie Newmar (1995)', b'Reckless (1995)', b'Senseless (1998)', b'Live Nude Girls (1995)', b'Vermin (1998)']\n"
     ]
    }
   ],
   "source": [
    "# Define the recommendation function\n",
    "def recommend_movie(movie_id, cosine_sim=cosine_sim):\n",
    "    # Ensure the movie_id is valid and in string format\n",
    "    movie_id = str(movie_id)\n",
    "    \n",
    "    if movie_id not in movies['movie_id'].values:\n",
    "        return f\"Movie ID {movie_id} not found in the dataset.\"\n",
    "\n",
    "    idx = movies.index[movies['movie_id'] == movie_id].tolist()[0]\n",
    "    sim_scores = list(enumerate(cosine_sim[idx]))\n",
    "    sim_scores = sorted(sim_scores, key=lambda x: x[1], reverse=True)\n",
    "    sim_scores = sim_scores[1:6]  # Get top 5 similar movies\n",
    "\n",
    "    movie_indices = [i[0] for i in sim_scores]\n",
    "    return movies['movie_title'].iloc[movie_indices].tolist()\n",
    "\n",
    "# Recommend movies similar to a specific movie (e.g., with movie_id = 1681 as a string)\n",
    "print(recommend_movie(1681))"
   ]
  },
  {
   "cell_type": "code",
   "execution_count": 20,
   "id": "206fe922-d42e-43e4-9c47-f16ce6356ef1",
   "metadata": {},
   "outputs": [
    {
     "name": "stdout",
     "output_type": "stream",
     "text": [
      "[b'Albino Alligator (1996)', b'Purple Noon (1960)', b'Playing God (1997)', b'Seven (Se7en) (1995)', b'Hard Eight (1996)']\n"
     ]
    }
   ],
   "source": [
    "print(recommend_movie(11))"
   ]
  },
  {
   "cell_type": "code",
   "execution_count": null,
   "id": "65e104c5-aee4-446c-a292-f5506027b820",
   "metadata": {},
   "outputs": [],
   "source": []
  }
 ],
 "metadata": {
  "kernelspec": {
   "display_name": "Python (base)",
   "language": "python",
   "name": "base"
  },
  "language_info": {
   "codemirror_mode": {
    "name": "ipython",
    "version": 3
   },
   "file_extension": ".py",
   "mimetype": "text/x-python",
   "name": "python",
   "nbconvert_exporter": "python",
   "pygments_lexer": "ipython3",
   "version": "3.12.4"
  }
 },
 "nbformat": 4,
 "nbformat_minor": 5
}

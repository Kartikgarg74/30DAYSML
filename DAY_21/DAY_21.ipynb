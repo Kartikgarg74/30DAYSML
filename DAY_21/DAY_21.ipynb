{
 "cells": [
  {
   "cell_type": "code",
   "execution_count": 8,
   "id": "d97f7d6b-a11d-4c77-b60c-f87b16f147e2",
   "metadata": {},
   "outputs": [],
   "source": [
    "import numpy as np\n",
    "\n",
    "# Environment definition\n",
    "n_states = 6  # Number of states\n",
    "n_actions = 4  # Number of possible actions: Left, Right, Up, Down\n",
    "goal_state = 3  # The terminal (goal) state"
   ]
  },
  {
   "cell_type": "code",
   "execution_count": 9,
   "id": "dd1bdabb-7275-4356-ae88-000dd01ad736",
   "metadata": {},
   "outputs": [],
   "source": [
    "# Reward matrix\n",
    "reward_matrix = np.array([\n",
    "    [-1, -1, -1, -1],  # State 0\n",
    "    [-1, -1, -1, -1],  # State 1\n",
    "    [-1, -1, -1, -1],  # State 2\n",
    "    [-1, -1, -1, 10],  # State 3 (goal state rewards +10 for reaching)\n",
    "    [-1, -1, -1, -1],  # State 4\n",
    "    [-1, -1, -1, -1]   # State 5\n",
    "])"
   ]
  },
  {
   "cell_type": "code",
   "execution_count": 10,
   "id": "a214636c-b310-43d1-9a59-fe21034947e9",
   "metadata": {},
   "outputs": [],
   "source": [
    "# Initialize Q-table\n",
    "Q = np.zeros((n_states, n_actions))  # Q-table initialized to zeros"
   ]
  },
  {
   "cell_type": "code",
   "execution_count": 11,
   "id": "13bea50d-703f-4c41-829f-0f25c43d1da4",
   "metadata": {},
   "outputs": [],
   "source": [
    "# Q-learning parameters\n",
    "learning_rate = 0.1  # Alpha: Learning rate\n",
    "discount_factor = 0.9  # Gamma: Discount factor for future rewards\n",
    "episodes = 100  # Number of training episodes\n",
    "epsilon = 0.1  # Epsilon for epsilon-greedy exploration"
   ]
  },
  {
   "cell_type": "code",
   "execution_count": 12,
   "id": "69411375-51e0-4d14-8897-e877c07fb816",
   "metadata": {},
   "outputs": [],
   "source": [
    "# Action mapping for clarity (optional)\n",
    "actions = [\"Left\", \"Right\", \"Up\", \"Down\"]"
   ]
  },
  {
   "cell_type": "code",
   "execution_count": null,
   "id": "09fc0bbf-6547-4c12-b481-ea1dea7ac2d3",
   "metadata": {},
   "outputs": [],
   "source": [
    "# Q-Learning process\n",
    "for episode in range(episodes):\n",
    "    state = np.random.randint(0, n_states)  # Start at a random state\n",
    "    \n",
    "    while state != goal_state:  # Continue until the goal state is reached\n",
    "        # Epsilon-greedy policy for action selection\n",
    "        if np.random.rand() < epsilon:  # Exploration\n",
    "            action = np.random.randint(0, n_actions)\n",
    "        else:  # Exploitation\n",
    "            action = np.argmax(Q[state])  # Choose the best action for current state\n",
    "        \n",
    "        # Define a simplified state transition\n",
    "        next_state = state + 1 if action == 3 and state + 1 < n_states else state  # Move \"Right\" if possible\n",
    "        \n",
    "        # Get the reward for this action\n",
    "        reward = reward_matrix[state, action]\n",
    "        \n",
    "        # Q-value update (Bellman equation)\n",
    "        Q[state, action] += learning_rate * (\n",
    "            reward + discount_factor * np.max(Q[next_state]) - Q[state, action]\n",
    "        )\n",
    "        \n",
    "        # Move to the next state\n",
    "        state = next_state"
   ]
  },
  {
   "cell_type": "code",
   "execution_count": null,
   "id": "1b9b0002-e312-4f29-bd0f-a444b6935488",
   "metadata": {},
   "outputs": [],
   "source": [
    "# Display the learned Q-table\n",
    "print(\"Learned Q-table:\")\n",
    "print(Q)"
   ]
  },
  {
   "cell_type": "code",
   "execution_count": null,
   "id": "d702eb77-5ddd-45be-8364-ab7847c0efc8",
   "metadata": {},
   "outputs": [],
   "source": [
    "# Derive the optimal policy from the Q-table\n",
    "optimal_policy = [actions[np.argmax(Q[s])] for s in range(n_states)]\n",
    "print(\"\\nOptimal Policy:\")\n",
    "for s in range(n_states):\n",
    "    print(f\"State {s}: {optimal_policy[s]}\")"
   ]
  },
  {
   "cell_type": "code",
   "execution_count": null,
   "id": "30c28c02-e1b5-4cae-949d-6edee7e94c0d",
   "metadata": {},
   "outputs": [],
   "source": []
  }
 ],
 "metadata": {
  "kernelspec": {
   "display_name": "Python (base)",
   "language": "python",
   "name": "base"
  },
  "language_info": {
   "codemirror_mode": {
    "name": "ipython",
    "version": 3
   },
   "file_extension": ".py",
   "mimetype": "text/x-python",
   "name": "python",
   "nbconvert_exporter": "python",
   "pygments_lexer": "ipython3",
   "version": "3.12.4"
  }
 },
 "nbformat": 4,
 "nbformat_minor": 5
}
